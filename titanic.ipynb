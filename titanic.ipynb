{
 "cells": [
  {
   "cell_type": "markdown",
   "metadata": {},
   "source": [
    "# Titanic Visualization"
   ]
  },
  {
   "cell_type": "code",
   "execution_count": 5,
   "metadata": {
    "collapsed": false,
    "scrolled": false,
    "slideshow": {
     "slide_type": "slide"
    }
   },
   "outputs": [
    {
     "data": {
      "text/html": [
       "<script type='text/javascript' src='https://public.tableau.com/javascripts/api/viz_v1.js'></script><div class='tableauPlaceholder' style='width: 700px; height: 900px;'><noscript><a href='#'><img alt='Dashboard 1 ' src='https:&#47;&#47;public.tableau.com&#47;static&#47;images&#47;Ti&#47;Titanic_74&#47;Dashboard1&#47;1_rss.png' style='border: none' /></a></noscript><object class='tableauViz' width='750' height='920' style='display:none;'><param name='host_url' value='https%3A%2F%2Fpublic.tableau.com%2F' /> <param name='site_root' value='' /><param name='name' value='Titanic_74&#47;Dashboard1' /><param name='tabs' value='no' /><param name='toolbar' value='yes' /><param name='static_image' value='https:&#47;&#47;public.tableau.com&#47;static&#47;images&#47;Ti&#47;Titanic_74&#47;Dashboard1&#47;1.png' /> <param name='animate_transition' value='yes' /><param name='display_static_image' value='yes' /><param name='display_spinner' value='yes' /><param name='display_overlay' value='yes' /><param name='display_count' value='yes' /><param name='showVizHome' value='no' /><param name='showTabs' value='y' /><param name='bootstrapWhenNotified' value='true' /></object></div>"
      ],
      "text/plain": [
       "<IPython.core.display.HTML object>"
      ]
     },
     "metadata": {},
     "output_type": "display_data"
    }
   ],
   "source": [
    "%%HTML\n",
    "<script type='text/javascript' src='https://public.tableau.com/javascripts/api/viz_v1.js'></script><div class='tableauPlaceholder' style='width: 700px; height: 900px;'><noscript><a href='#'><img alt='Dashboard 1 ' src='https:&#47;&#47;public.tableau.com&#47;static&#47;images&#47;Ti&#47;Titanic_74&#47;Dashboard1&#47;1_rss.png' style='border: none' /></a></noscript><object class='tableauViz' width='750' height='920' style='display:none;'><param name='host_url' value='https%3A%2F%2Fpublic.tableau.com%2F' /> <param name='site_root' value='' /><param name='name' value='Titanic_74&#47;Dashboard1' /><param name='tabs' value='no' /><param name='toolbar' value='yes' /><param name='static_image' value='https:&#47;&#47;public.tableau.com&#47;static&#47;images&#47;Ti&#47;Titanic_74&#47;Dashboard1&#47;1.png' /> <param name='animate_transition' value='yes' /><param name='display_static_image' value='yes' /><param name='display_spinner' value='yes' /><param name='display_overlay' value='yes' /><param name='display_count' value='yes' /><param name='showVizHome' value='no' /><param name='showTabs' value='y' /><param name='bootstrapWhenNotified' value='true' /></object></div>\n"
   ]
  },
  {
   "cell_type": "markdown",
   "metadata": {},
   "source": [
    "## Things I have Already Done in Excel\n",
    "---\n",
    "1. \n",
    "2. \n",
    "3. "
   ]
  },
  {
   "cell_type": "markdown",
   "metadata": {},
   "source": [
    "## Importing the Data"
   ]
  },
  {
   "cell_type": "code",
   "execution_count": 6,
   "metadata": {
    "collapsed": true,
    "slideshow": {
     "slide_type": "slide"
    }
   },
   "outputs": [],
   "source": [
    "#Import appropriate libraries\n",
    "import IPython.display as ip\n",
    "import numpy as np\n",
    "import pandas as pd\n",
    "import matplotlib.pyplot as plt\n",
    "import statsmodels.api as sm\n",
    "import sklearn.linear_model as lm\n",
    "import sklearn.tree as tree\n",
    "import sklearn.ensemble as ens\n",
    "from sklearn import metrics\n",
    "import sklearn.cross_validation as cv\n",
    "import sklearn.grid_search as gs\n",
    "from sklearn import datasets\n",
    "\n",
    "%matplotlib inline"
   ]
  },
  {
   "cell_type": "code",
   "execution_count": 7,
   "metadata": {
    "collapsed": false,
    "scrolled": true
   },
   "outputs": [
    {
     "data": {
      "text/html": [
       "\n",
       "        <iframe\n",
       "            width=\"100%\"\n",
       "            height=\"500\"\n",
       "            src=\"pivottablejs.html\"\n",
       "            frameborder=\"0\"\n",
       "            allowfullscreen\n",
       "        ></iframe>\n",
       "        "
      ],
      "text/plain": [
       "<IPython.lib.display.IFrame at 0xb3b6f98>"
      ]
     },
     "execution_count": 7,
     "metadata": {},
     "output_type": "execute_result"
    }
   ],
   "source": [
    "#Load the Titanic Dataset\n",
    "import pivottablejs as pvt\n",
    "df = pd.read_excel('Data/Titanic/train.xlsx', sheetname = 'logistic')\n",
    "pvt.pivot_ui(df)"
   ]
  },
  {
   "cell_type": "code",
   "execution_count": 8,
   "metadata": {
    "collapsed": false
   },
   "outputs": [
    {
     "data": {
      "text/plain": [
       "Index(['AdjAge', 'Fare', 'SibSp', 'Parch', 'Pclass', 'Embarked2', 'Sex2',\n",
       "       'Title2'],\n",
       "      dtype='object')"
      ]
     },
     "execution_count": 8,
     "metadata": {},
     "output_type": "execute_result"
    }
   ],
   "source": [
    "# Define X and y.  X are the featuers and y is the Outcome we are trying to predict.\n",
    "\n",
    "X = df[['AdjAge', 'Fare', 'SibSp', 'Parch', 'Pclass', 'Embarked2', 'Sex2', 'Title2']]\n",
    "y = df['Survived']\n",
    "X.columns"
   ]
  },
  {
   "cell_type": "markdown",
   "metadata": {},
   "source": [
    "### Define the Models"
   ]
  },
  {
   "cell_type": "code",
   "execution_count": 9,
   "metadata": {
    "collapsed": true
   },
   "outputs": [],
   "source": [
    "lr = lm.LogisticRegression()\n",
    "dt = tree.DecisionTreeClassifier()\n",
    "rf = ens.RandomForestClassifier()"
   ]
  },
  {
   "cell_type": "markdown",
   "metadata": {},
   "source": [
    "### Train the Models"
   ]
  },
  {
   "cell_type": "code",
   "execution_count": 10,
   "metadata": {
    "collapsed": false
   },
   "outputs": [],
   "source": [
    "cvs = 10\n",
    "njobs = -1\n",
    "lr_model = cv.cross_val_score(lr, X, y, cv = cvs, n_jobs=njobs, scoring='roc_auc')\n",
    "dt_model = cv.cross_val_score(dt, X, y, cv = cvs, n_jobs=njobs, scoring='roc_auc')\n",
    "rf_model = cv.cross_val_score(rf, X, y, cv = cvs, n_jobs=njobs, scoring='roc_auc')"
   ]
  },
  {
   "cell_type": "markdown",
   "metadata": {},
   "source": [
    "### Compare Models"
   ]
  },
  {
   "cell_type": "code",
   "execution_count": 11,
   "metadata": {
    "collapsed": false
   },
   "outputs": [
    {
     "data": {
      "text/plain": [
       "(0.85173796791443857, 0.76358140225787285, 0.84097098435333739)"
      ]
     },
     "execution_count": 11,
     "metadata": {},
     "output_type": "execute_result"
    }
   ],
   "source": [
    "#Compare Models based on the best mean AUC score\n",
    "lr_score = lr_model.mean()\n",
    "dt_score = dt_model.mean()\n",
    "rf_score = rf_model.mean()\n",
    "lr_score, dt_score, rf_score"
   ]
  },
  {
   "cell_type": "markdown",
   "metadata": {},
   "source": [
    "# `Place AUC Charts here`"
   ]
  },
  {
   "cell_type": "markdown",
   "metadata": {},
   "source": [
    " - Area Under the Curve Scores\n",
    "   1. Logistic Regression  =  85.17%\n",
    "   2. Random Forest = 84.25%\n",
    "   3. Decision Tree  = 75.34%\n",
    "   ---\n",
    "   \n",
    " Based on the results of the scoring, we choose to proceed with the Logistic Regression"
   ]
  },
  {
   "cell_type": "markdown",
   "metadata": {},
   "source": [
    "### Optimize the Model Parameters"
   ]
  },
  {
   "cell_type": "code",
   "execution_count": 14,
   "metadata": {
    "collapsed": false
   },
   "outputs": [
    {
     "data": {
      "text/plain": [
       "array([  1.00000000e+00,   2.78255940e+00,   7.74263683e+00,\n",
       "         2.15443469e+01,   5.99484250e+01,   1.66810054e+02,\n",
       "         4.64158883e+02,   1.29154967e+03,   3.59381366e+03,\n",
       "         1.00000000e+04])"
      ]
     },
     "execution_count": 14,
     "metadata": {},
     "output_type": "execute_result"
    }
   ],
   "source": [
    "c_range = np.logspace(0, 4, 10)\n",
    "c_range"
   ]
  },
  {
   "cell_type": "code",
   "execution_count": 15,
   "metadata": {
    "collapsed": false
   },
   "outputs": [],
   "source": [
    "param_dict = dict(C=c_range)\n",
    "lr_grid = gs.GridSearchCV(lr, param_dict, cv=cvs, scoring='roc_auc')"
   ]
  },
  {
   "cell_type": "code",
   "execution_count": 16,
   "metadata": {
    "collapsed": false
   },
   "outputs": [
    {
     "data": {
      "text/plain": [
       "GridSearchCV(cv=10, error_score='raise',\n",
       "       estimator=LogisticRegression(C=1.0, class_weight=None, dual=False, fit_intercept=True,\n",
       "          intercept_scaling=1, max_iter=100, multi_class='ovr',\n",
       "          penalty='l2', random_state=None, solver='liblinear', tol=0.0001,\n",
       "          verbose=0),\n",
       "       fit_params={}, iid=True, loss_func=None, n_jobs=1,\n",
       "       param_grid={'C': array([  1.00000e+00,   2.78256e+00,   7.74264e+00,   2.15443e+01,\n",
       "         5.99484e+01,   1.66810e+02,   4.64159e+02,   1.29155e+03,\n",
       "         3.59381e+03,   1.00000e+04])},\n",
       "       pre_dispatch='2*n_jobs', refit=True, score_func=None,\n",
       "       scoring='roc_auc', verbose=0)"
      ]
     },
     "execution_count": 16,
     "metadata": {},
     "output_type": "execute_result"
    }
   ],
   "source": [
    "lr_grid.fit(X, y)"
   ]
  },
  {
   "cell_type": "code",
   "execution_count": 17,
   "metadata": {
    "collapsed": false
   },
   "outputs": [
    {
     "data": {
      "text/plain": [
       "[mean: 0.85172, std: 0.02391, params: {'C': 1.0},\n",
       " mean: 0.85220, std: 0.02411, params: {'C': 2.7825594022071245},\n",
       " mean: 0.85242, std: 0.02415, params: {'C': 7.7426368268112693},\n",
       " mean: 0.85268, std: 0.02400, params: {'C': 21.544346900318832},\n",
       " mean: 0.85290, std: 0.02404, params: {'C': 59.948425031894089},\n",
       " mean: 0.85279, std: 0.02386, params: {'C': 166.81005372000593},\n",
       " mean: 0.85274, std: 0.02375, params: {'C': 464.15888336127773},\n",
       " mean: 0.85279, std: 0.02382, params: {'C': 1291.5496650148827},\n",
       " mean: 0.85274, std: 0.02375, params: {'C': 3593.8136638046258},\n",
       " mean: 0.85279, std: 0.02382, params: {'C': 10000.0}]"
      ]
     },
     "execution_count": 17,
     "metadata": {},
     "output_type": "execute_result"
    }
   ],
   "source": [
    "lr_grid.grid_scores_"
   ]
  },
  {
   "cell_type": "code",
   "execution_count": 18,
   "metadata": {
    "collapsed": false
   },
   "outputs": [
    {
     "data": {
      "image/png": "[encoded data removed]",
      "text/plain": [
       "<matplotlib.figure.Figure at 0xb412e80>"
      ]
     },
     "metadata": {},
     "output_type": "display_data"
    }
   ],
   "source": [
    "lr_grid_scores = [score.mean_validation_score for score in lr_grid.grid_scores_]\n",
    "ax = plt.plot(c_range, lr_grid_scores, drawstyle='steps')"
   ]
  },
  {
   "cell_type": "code",
   "execution_count": 19,
   "metadata": {
    "collapsed": false
   },
   "outputs": [
    {
     "data": {
      "text/plain": [
       "(0.85289900259793738, {'C': 59.948425031894089})"
      ]
     },
     "execution_count": 19,
     "metadata": {},
     "output_type": "execute_result"
    }
   ],
   "source": [
    "lr_grid.best_score_, lr_grid.best_params_"
   ]
  },
  {
   "cell_type": "code",
   "execution_count": 20,
   "metadata": {
    "collapsed": false
   },
   "outputs": [],
   "source": [
    "lr_c = lr_grid.best_params_.get('C')"
   ]
  },
  {
   "cell_type": "markdown",
   "metadata": {},
   "source": [
    "### Use Optimal Parameters In Model"
   ]
  },
  {
   "cell_type": "code",
   "execution_count": 21,
   "metadata": {
    "collapsed": false
   },
   "outputs": [],
   "source": [
    "lr = lm.LogisticRegression(C=lr_c)\n",
    "model = lr.fit(X,y)"
   ]
  },
  {
   "cell_type": "code",
   "execution_count": 22,
   "metadata": {
    "collapsed": false
   },
   "outputs": [
    {
     "data": {
      "text/plain": [
       "array([[ 0.91496249,  0.08503751],\n",
       "       [ 0.09719615,  0.90280385],\n",
       "       [ 0.34671171,  0.65328829],\n",
       "       ..., \n",
       "       [ 0.49368762,  0.50631238],\n",
       "       [ 0.42319475,  0.57680525],\n",
       "       [ 0.87374175,  0.12625825]])"
      ]
     },
     "execution_count": 22,
     "metadata": {},
     "output_type": "execute_result"
    }
   ],
   "source": [
    "model.predict_proba(X)"
   ]
  },
  {
   "cell_type": "code",
   "execution_count": 23,
   "metadata": {
    "collapsed": false
   },
   "outputs": [
    {
     "data": {
      "text/plain": [
       "0.6175478065241844"
      ]
     },
     "execution_count": 23,
     "metadata": {},
     "output_type": "execute_result"
    }
   ],
   "source": [
    "# This is the Null Error Rate which means that we could achieve ~62% accuracy\n",
    "# just by predicting \"No\" for each sample\n",
    "1 - y.mean()"
   ]
  },
  {
   "cell_type": "code",
   "execution_count": 24,
   "metadata": {
    "collapsed": false
   },
   "outputs": [
    {
     "data": {
      "text/plain": [
       "(0.72615384615384604, array([[ 0.91496249,  0.08503751],\n",
       "        [ 0.09719615,  0.90280385],\n",
       "        [ 0.34671171,  0.65328829],\n",
       "        ..., \n",
       "        [ 0.49368762,  0.50631238],\n",
       "        [ 0.42319475,  0.57680525],\n",
       "        [ 0.87374175,  0.12625825]]))"
      ]
     },
     "execution_count": 24,
     "metadata": {},
     "output_type": "execute_result"
    }
   ],
   "source": [
    "#Provide the probabilities for each prediction (formula 1) as well as the prediction value (formula 2)\n",
    "prediction_prob = model.predict_proba(X)\n",
    "prediction = model.predict(X)\n",
    "metrics.f1_score(y, prediction), prediction_prob"
   ]
  },
  {
   "cell_type": "code",
   "execution_count": 25,
   "metadata": {
    "collapsed": false
   },
   "outputs": [
    {
     "data": {
      "text/plain": [
       "(array([[ -3.80448981e-02],\n",
       "        [  2.30324205e-03],\n",
       "        [ -3.42538716e-01],\n",
       "        [ -8.03802897e-02],\n",
       "        [ -1.10182903e+00],\n",
       "        [  2.39046901e-01],\n",
       "        [  2.67167098e+00],\n",
       "        [ -4.85769059e-02]]),\n",
       " <bound method LogisticRegression.get_params of LogisticRegression(C=59.948425031894089, class_weight=None, dual=False,\n",
       "           fit_intercept=True, intercept_scaling=1, max_iter=100,\n",
       "           multi_class='ovr', penalty='l2', random_state=None,\n",
       "           solver='liblinear', tol=0.0001, verbose=0)>)"
      ]
     },
     "execution_count": 25,
     "metadata": {},
     "output_type": "execute_result"
    }
   ],
   "source": [
    "np.transpose(model.coef_), model.get_params"
   ]
  },
  {
   "cell_type": "code",
   "execution_count": 26,
   "metadata": {
    "collapsed": false
   },
   "outputs": [
    {
     "data": {
      "text/plain": [
       "(array([[475,  74],\n",
       "        [104, 236]]), 0.8562011143255116)"
      ]
     },
     "execution_count": 26,
     "metadata": {},
     "output_type": "execute_result"
    }
   ],
   "source": [
    "#Confusion Matrix\n",
    "metrics.confusion_matrix(y, prediction), metrics.roc_auc_score(y, prediction_prob[:, 1])"
   ]
  },
  {
   "cell_type": "markdown",
   "metadata": {},
   "source": [
    "# Widgets"
   ]
  },
  {
   "cell_type": "code",
   "execution_count": 27,
   "metadata": {
    "collapsed": false
   },
   "outputs": [],
   "source": [
    "import ipywidgets as ipw\n",
    "import IPython.display as display"
   ]
  },
  {
   "cell_type": "code",
   "execution_count": 28,
   "metadata": {
    "collapsed": false
   },
   "outputs": [],
   "source": [
    "def predict(Age,Fare,Family,Parch,Pclass,Embarked,Gender,Title):    \n",
    "    return(model.predict([Age,Fare,Family,Parch,Pclass,Embarked,Gender,Title]), model.predict_proba([Age,Fare,Family,Parch,Pclass,Embarked,Gender,Title]))"
   ]
  },
  {
   "cell_type": "code",
   "execution_count": 29,
   "metadata": {
    "collapsed": false,
    "scrolled": true
   },
   "outputs": [
    {
     "data": {
      "text/plain": [
       "(array([1], dtype=int64), array([[ 0.06685458,  0.93314542]]))"
      ]
     },
     "metadata": {},
     "output_type": "display_data"
    }
   ],
   "source": [
    "ipw.interact(predict, \n",
    "             Age = ipw.FloatSlider(min = np.min(X['AdjAge']), max = np.max(X['AdjAge']), step = 0.5, value = 20),\n",
    "             Fare = ipw.FloatSlider(min = np.min(X['Fare']), max = np.max(X['Fare']), step = 0.5, value = 20),\n",
    "             Family = ipw.FloatSlider(min = np.min(X['SibSp']), max = np.max(X['SibSp']), step = 1, value = 2),\n",
    "             Parch = ipw.FloatSlider(min = np.min(X['Parch']), max = np.max(X['Parch']), step = 1, value = 2),\n",
    "             Pclass = ipw.FloatSlider(min = np.min(X['Pclass']), max = np.max(X['Pclass']), step = 1, value = 1),\n",
    "             Embarked = ipw.FloatSlider(min = np.min(X['Embarked2']), max = np.max(X['Embarked2']), step = 1, value = 1),\n",
    "             Gender = ipw.FloatSlider(min = np.min(X['Sex2']), max = np.max(X['Sex2']), step = 1, value = 1),\n",
    "             Title = ipw.FloatSlider(min = np.min(X['Title2']), max = np.max(X['Title2']), step = 1, value = 1)\n",
    "            )\n",
    "print('Probability Dead: ',)"
   ]
  },
  {
   "cell_type": "markdown",
   "metadata": {},
   "source": [
    "# To-Do\n",
    "---\n",
    " - Fix Prediction and Probabilities from Interactive Sliders\n",
    " - Add Graphs to White-paper\n",
    " - Add to Tableau\n",
    "   - Add Explanation\n",
    " - Complete Expanations\n",
    " - Fix IPywidgets to work on HTML"
   ]
  }
 ],
 "metadata": {
  "kernelspec": {
   "display_name": "Python 3",
   "language": "python",
   "name": "python3"
  },
  "language_info": {
   "codemirror_mode": {
    "name": "ipython",
    "version": 3
   },
   "file_extension": ".py",
   "mimetype": "text/x-python",
   "name": "python",
   "nbconvert_exporter": "python",
   "pygments_lexer": "ipython3",
   "version": "3.4.3"
  }
 },
 "nbformat": 4,
 "nbformat_minor": 0
}
